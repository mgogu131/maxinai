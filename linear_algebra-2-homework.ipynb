{
 "cells": [
  {
   "cell_type": "code",
   "execution_count": 1,
   "metadata": {},
   "outputs": [],
   "source": [
    "%load_ext autoreload\n",
    "%autoreload 2\n",
    "\n",
    "%matplotlib inline"
   ]
  },
  {
   "cell_type": "markdown",
   "metadata": {},
   "source": [
    "## Basic setup"
   ]
  },
  {
   "cell_type": "markdown",
   "metadata": {},
   "source": [
    "Create anaconda environment\n",
    "<br>\n",
    "```bash\n",
    "conda create -n ml python=3.7.4 jupyter\n",
    "```\n",
    "Install fastai library\n",
    "<br>\n",
    "```bash\n",
    "conda install -c pytorch -c fastai fastai\n",
    "```"
   ]
  },
  {
   "cell_type": "markdown",
   "metadata": {},
   "source": [
    "# Linear spaces"
   ]
  },
  {
   "cell_type": "markdown",
   "metadata": {},
   "source": [
    "#### Prove that:\n",
    "For every linear function $f:V \\to U$ between vector spaces $V$ and $U$ on the real numbers, every sequence of vectors $v_1, v_2, \\dots v_m \\in V$ and every scalars $a_1, a_2, \\dots, a_m \\in \\mathbb{R}$:\n",
    "<br>\n",
    "$$f(a_1v_1 + a_2v_2 + \\dots + a_mv_m) = a_1f(v_1) + a_2f(v_2) + \\dots + a_mf(v_m)$$"
   ]
  },
  {
   "cell_type": "markdown",
   "metadata": {},
   "source": []
  },
  {
   "cell_type": "markdown",
   "metadata": {},
   "source": [
    "#### By the definiion of linear function $f$ should satisfy: for every $u, v \\in \\mathbb(U)$ and every scalar $ \\alpha in \\in \\mathbb{R}$ we have:\n",
    "- $f(u + v) = f(u) + f(v)$\n",
    "- $f(\\alpha u) = \\alpha f(u)$\n",
    "\n",
    "### Lets prove by induction:\n",
    "\n",
    "#### Base case for $n = 2$\n",
    "\n",
    "$$f(a_1v_1 + a_2v_2) = f(a_1v_1) + f(a_2v_2) = a_1f(v_1) + a_2f(v_2) $$\n",
    "\n",
    "#### Induction step: if the statement holds for $n=m$, then it holds for $n = m + 1$\n",
    "\n",
    "$$f(a_1v_1 + a_2v_2 + \\dots + a_mv_m) = a_1f(v_1) + a_2f(v_2) + \\dots + a_mf(v_m)$$\n",
    "\n",
    "prove for $n=m+1$\n",
    "\n",
    "$$f(a_1v_1 + a_2v_2 + \\dots + a_mv_m + a_{m+1}v_{m+1}) = f((a_1v_1 + a_2v_2 + \\dots + a_mv_m) + a_{m+1}v_{m+1}) =$$\n",
    "\n",
    "$$= f(a_1v_1 + a_2v_2 + \\dots + a_mv_m) + f(a_{m+1}v_{m+1}) = f(a_1v_1 + a_2v_2 + \\dots + a_mv_m) + a_{m+1}f(v_{m+1}) = $$\n",
    "\n",
    "$$ = a_1f(v_1) + a_2f(v_2) + \\dots + a_mf(v_m) + a_{m+1}f(v_{m+1})$$\n"
   ]
  },
  {
   "cell_type": "code",
   "execution_count": null,
   "metadata": {},
   "outputs": [],
   "source": []
  }
 ],
 "metadata": {
  "kernelspec": {
   "display_name": "Python 3",
   "language": "python",
   "name": "python3"
  },
  "language_info": {
   "codemirror_mode": {
    "name": "ipython",
    "version": 3
   },
   "file_extension": ".py",
   "mimetype": "text/x-python",
   "name": "python",
   "nbconvert_exporter": "python",
   "pygments_lexer": "ipython3",
   "version": "3.6.5"
  }
 },
 "nbformat": 4,
 "nbformat_minor": 4
}
