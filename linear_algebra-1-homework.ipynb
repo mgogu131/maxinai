{
 "cells": [
  {
   "cell_type": "code",
   "execution_count": null,
   "metadata": {},
   "outputs": [],
   "source": [
    "%load_ext autoreload\n",
    "%autoreload 2\n",
    "\n",
    "%matplotlib inline"
   ]
  },
  {
   "cell_type": "markdown",
   "metadata": {},
   "source": [
    "## Basic setup"
   ]
  },
  {
   "cell_type": "markdown",
   "metadata": {},
   "source": [
    "Create anaconda environment\n",
    "<br>\n",
    "```bash\n",
    "conda create -n ml python=3.7.4 jupyter\n",
    "```\n",
    "Install fastai library\n",
    "<br>\n",
    "```bash\n",
    "conda install -c pytorch -c fastai fastai\n",
    "```"
   ]
  },
  {
   "cell_type": "markdown",
   "metadata": {},
   "source": [
    "# Set theory basics"
   ]
  },
  {
   "cell_type": "markdown",
   "metadata": {},
   "source": [
    "#### Prove that:\n",
    "<br>\n",
    "$A \\subseteq A$"
   ]
  },
  {
   "cell_type": "markdown",
   "metadata": {},
   "source": [
    "#### Proof:\n",
    "For any element $a\\in A $ we also have $a  \\in A $ so $A \\subseteq A$"
   ]
  },
  {
   "cell_type": "markdown",
   "metadata": {},
   "source": [
    "#### Prove that:\n",
    "<br>\n",
    "If $A \\subseteq B$ and $B \\subseteq A$ $\\to$ $A = B$"
   ]
  },
  {
   "cell_type": "markdown",
   "metadata": {},
   "source": [
    "#### Proof:\n",
    "<br>\n",
    "For any element $a\\in A $ we also have $a  \\in B $ and vice versa so $A = B$\n"
   ]
  },
  {
   "cell_type": "markdown",
   "metadata": {},
   "source": [
    "#### Prove that:\n",
    "<br>\n",
    "if $B \\subset A$ then $A \\cap B = B$"
   ]
  },
  {
   "cell_type": "markdown",
   "metadata": {},
   "source": [
    "#### Proof:\n",
    "<br>\n",
    "For any element $b \\in B $ also $b \\in (A \\cap B)  $ and vice versa.\n",
    "\n",
    "For any element $b \\notin B $ also $b \\notin (A \\cap B)  $ and vice versa so $A \\cap B = B$"
   ]
  },
  {
   "cell_type": "markdown",
   "metadata": {},
   "source": [
    "#### Prove that:\n",
    "<br>\n",
    "$A \\cap B = B \\cap A$"
   ]
  },
  {
   "cell_type": "markdown",
   "metadata": {},
   "source": [
    "#### Proof:\n",
    "For any element $x \\in A \\cap B$ $\\to$ $x \\in A$ or $ x\\in B$ $\\to$ $x \\in B \\cap A$ and vice versa so $\\to$ $A \\cap B = B \\cap A$"
   ]
  },
  {
   "cell_type": "markdown",
   "metadata": {},
   "source": [
    "#### Prove that:\n",
    "<br>\n",
    "if $B \\subset A$ then $A \\cup B = A$"
   ]
  },
  {
   "cell_type": "markdown",
   "metadata": {},
   "source": [
    "#### Proof:\n",
    "<br>\n",
    "For any element $a \\in A $ also $a \\in (A \\cup B ) $\n",
    "<br>\n",
    "For any element $x \\in (A \\cup B ) \\to $ $x \\in A $ or $x \\in B $ \n",
    "<br>\n",
    "While $B \\subset A$ From both cases we also get $x \\in A$"
   ]
  },
  {
   "cell_type": "markdown",
   "metadata": {},
   "source": [
    "#### Prove that:\n",
    "<br>\n",
    "$A \\cup B = B \\cup A$"
   ]
  },
  {
   "cell_type": "markdown",
   "metadata": {},
   "source": [
    "#### Proof:\n",
    "For any element $a \\in A \\cup B$ we also have $a \\in B \\cup A$ and vice versa."
   ]
  },
  {
   "cell_type": "markdown",
   "metadata": {},
   "source": [
    "#### Prove that:\n",
    "- for every injection $m:A \\to B$ and pair of functions $f, g :C \\to A$: if $m \\circ f = m \\circ g$ then $f = g$ and vice-versa\n",
    "- for every surjection $e:A \\to B$ and every pair of functions $f, g :B \\to C$: if $f \\circ e = g \\circ e$ then $f = g$ and vice-versa"
   ]
  },
  {
   "cell_type": "markdown",
   "metadata": {},
   "source": [
    "#### Proof:\n",
    "-  if $f(x) = g(x)$ then $m(f(x)) = m(g(x))$. If $m(f(x)) = m(g(x))$ by injection definition  then $f(x) = g(x)$.\n",
    "-  if $f(x) = g(x)$ then $f(e(x)) = g(e(x))$. for any $y$ there exists $x$ such that $y=e(x)$. So for any $y$: $f(y)=g(y)$ \n"
   ]
  },
  {
   "cell_type": "markdown",
   "metadata": {},
   "source": [
    "#### Prove that \n",
    "- composition of injections is injection itself\n",
    "- composition of surjections is surjection itself\n",
    "- composition of bijections is bijection itself\n",
    "<br>\n",
    "or give a counterexamples"
   ]
  },
  {
   "cell_type": "markdown",
   "metadata": {},
   "source": [
    "#### Proof:\n",
    "\n",
    "-  if $g(f(x_1)) = g(f(x_2))$. by injection definition of $g$: $\\to$ $f(x_1) = f(x_2)$. $\\to$  by injection definition of $f$: $\\to$ $x_1 = x_2$\n",
    "-  for any element $x$ by surjection definition there exists $x = f(z)$. also for any element $z$ there exists such $y$ that $g(y) = z$ $\\to$ $x = f(z) = f(g(y))$\n",
    "-  because bijection function has injection and surjective properties and we proved composition theorem for both of them $\\to$ composition of bijections is bijection itself.  "
   ]
  },
  {
   "cell_type": "markdown",
   "metadata": {},
   "source": [
    "#### Prove that for each set $A$:\n",
    "- $A \\cong A$\n",
    "- if $B \\cong A$ then $B \\cong A$ for every pair of sets $A$ and $B$\n",
    "- if $A \\cong B$ and $B \\cong C$ then $A \\cong C$ for every triplet $A$, $B$ and $C$"
   ]
  },
  {
   "cell_type": "markdown",
   "metadata": {},
   "source": [
    "### Proof:\n",
    "- for any element from left side assign itself to element in right side and vice versa.\n",
    "- it is straight forward.\n",
    "- we already proved that composition of bijections is bijection itself."
   ]
  },
  {
   "cell_type": "markdown",
   "metadata": {},
   "source": [
    "#### Prove that:\n",
    "<br>\n",
    "there exists a bijection between set of natural and even numbers"
   ]
  },
  {
   "cell_type": "markdown",
   "metadata": {},
   "source": [
    "### Proof:\n",
    "\n",
    "- let bijection function be $f(n) = 2*n$\n",
    "\n",
    "for every even $m$ there exists such $n=m \\div 2$: that $f(n) = m$\n",
    "\n",
    "for every distinct natural number $m$ and $n$: $f(m)$ ≠ $f(n)$"
   ]
  },
  {
   "cell_type": "markdown",
   "metadata": {},
   "source": [
    "#### Prove that:\n",
    "<br>\n",
    "if we have a bijection between two finite sets than they have an equal number of elements"
   ]
  },
  {
   "cell_type": "markdown",
   "metadata": {},
   "source": [
    "### Proof:\n",
    "- let $B$ and $C$ be our bijection sets. let $A$ be the set of natural numbers of size elements of B as we already know if $A \\cong B$ and $B \\cong C$ then $A \\cong C$. <br> so $C$ and $A$ have same number of elements."
   ]
  },
  {
   "cell_type": "markdown",
   "metadata": {},
   "source": [
    "#### Prove that:\n",
    "<br>\n",
    "$A \\times B \\cong B \\times A$"
   ]
  },
  {
   "cell_type": "markdown",
   "metadata": {},
   "source": [
    "### Proof:\n",
    "\n",
    "- let bijection formula be: f(a, b) = (b, a)"
   ]
  },
  {
   "cell_type": "markdown",
   "metadata": {},
   "source": [
    "$\\cap_{i\\in I}A_i$ and $\\cup_{i\\in I}A_i$"
   ]
  },
  {
   "cell_type": "code",
   "execution_count": 10,
   "metadata": {},
   "outputs": [],
   "source": [
    "# Inplement in python\n",
    "from functools import reduce\n",
    "\n",
    "def set_intersection(list_of_sets):\n",
    "    res = reduce((lambda set1, set2: set1.intersection(set2)), list_of_sets)\n",
    "    return res\n",
    "\n",
    "def set_union(list_of_sets):\n",
    "    res = reduce((lambda set1, set2: set1.union(set2)), list_of_sets)\n",
    "    return res"
   ]
  },
  {
   "cell_type": "markdown",
   "metadata": {},
   "source": [
    "We can also define cartesian product of any \"number\" of sets $\\prod_{i \\in I}{A_i}$"
   ]
  },
  {
   "cell_type": "code",
   "execution_count": 18,
   "metadata": {},
   "outputs": [],
   "source": [
    "# Inplement in python\n",
    "def set_cartesian_product(_set_):\n",
    "    res = reduce((lambda e1, e2: e1*e2), _set_)\n",
    "    return res"
   ]
  },
  {
   "cell_type": "markdown",
   "metadata": {},
   "source": [
    "#### Prove that:\n",
    "<br>\n",
    "$$A \\cap (B \\cup C)=(A \\cap B) \\cup (A\\cap C)$$\n",
    "$$A \\cup (B \\cap C)=(A \\cup B) \\cap (A\\cup C)$$"
   ]
  },
  {
   "cell_type": "markdown",
   "metadata": {},
   "source": [
    "### Proof problem 1:\n",
    "\n",
    "- lemma 1:\n",
    "<br>\n",
    "if $x \\in A \\cap (B \\cup C)$ $\\to$ $x \\in A$ and $x \\in B \\cup C$ $\\to$ $x \\in B$ or $x \\in C$ $\\to$ $x \\in A \\cap B$ or $x \\in A \\cap C$ $\\to$ $x \\in (A \\cap B) \\cup (A\\cap C)$\n",
    "\n",
    "- lemma 2:\n",
    "<br>\n",
    "if $x \\in (A \\cap B) \\cup (A\\cap C))$ $\\to$ $x \\in A$ and ($x \\in B$ or $x \\in C$) $\\to$  $x \\in A \\cap (B \\cup C)$\n"
   ]
  },
  {
   "cell_type": "markdown",
   "metadata": {},
   "source": [
    "### Proof problem 2:\n",
    "\n",
    "- lemma 1:\n",
    "<br>\n",
    "$A \\cup (B \\cap C) \\subseteq (A \\cup B) $ and similary $(A \\cup (B \\cap C)) \\subseteq (A \\cup C) $ $\\to$ $(A \\cap (B \\cup C)) \\subseteq (A \\cup B) \\cap (A \\cup C)$\n",
    "\n",
    "- lemma 2:\n",
    "<br>\n",
    "if $x \\in ((A \\cup B) \\cap (A\\cup C))$ then if $x \\in A$ then $x$ in both sides of equation\n",
    "<br>\n",
    "if $x \\notin A$ then $x \\in B$ and $x \\in C$ $\\to$ $x \\in B \\cap C$ $\\to$  $x \\in A \\cup (B \\cap C) $"
   ]
  },
  {
   "cell_type": "markdown",
   "metadata": {},
   "source": [
    "# Linear Algebra"
   ]
  },
  {
   "cell_type": "markdown",
   "metadata": {},
   "source": [
    "#### Prove that:\n",
    "<br>\n",
    "$(AB)^{T} = B^{T}A^{T}$ for each pair of matrices $A, B \\in \\mathbb{R}^{n \\times m}$"
   ]
  },
  {
   "cell_type": "markdown",
   "metadata": {},
   "source": [
    "### Proof:\n",
    "$((AB))_{ij}$ = $\\sum_{k=1}^{n}\\alpha_{ik} b_{kj}$\n",
    "\n",
    "$((AB)^T)_{ij}$ = $((AB))_{ji}$ = $\\sum_{k=1}^{n}\\alpha_{jk} b_{ki}$\n",
    "\n",
    "$(B^{T}A^{T})_{ij}$ = $\\sum_{k=1}^{n} B^{T}_{ik}A^{T}_{kj}$ = $\\sum_{k=1}^{n}b_{ki} \\alpha_{jk} $ $\\to$ $(AB)^{T} = B^{T}A^{T}$ elementwise.\n"
   ]
  },
  {
   "cell_type": "markdown",
   "metadata": {},
   "source": [
    "## Functions on tensors"
   ]
  },
  {
   "cell_type": "markdown",
   "metadata": {},
   "source": [
    "#### Write combination for $XOR$ calculation"
   ]
  },
  {
   "cell_type": "code",
   "execution_count": 28,
   "metadata": {},
   "outputs": [],
   "source": [
    "def xor_operator(elem_list):\n",
    "    res = reduce((lambda e1, e2: e1 ^ e2), elem_list)\n",
    "    return res\n"
   ]
  },
  {
   "cell_type": "code",
   "execution_count": null,
   "metadata": {},
   "outputs": [],
   "source": []
  }
 ],
 "metadata": {
  "kernelspec": {
   "display_name": "Python 3",
   "language": "python",
   "name": "python3"
  },
  "language_info": {
   "codemirror_mode": {
    "name": "ipython",
    "version": 3
   },
   "file_extension": ".py",
   "mimetype": "text/x-python",
   "name": "python",
   "nbconvert_exporter": "python",
   "pygments_lexer": "ipython3",
   "version": "3.6.5"
  }
 },
 "nbformat": 4,
 "nbformat_minor": 4
}
