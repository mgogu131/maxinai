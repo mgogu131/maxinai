{
 "cells": [
  {
   "cell_type": "code",
   "execution_count": null,
   "metadata": {},
   "outputs": [],
   "source": [
    "%load_ext autoreload\n",
    "%autoreload 2\n",
    "\n",
    "%matplotlib inline"
   ]
  },
  {
   "cell_type": "markdown",
   "metadata": {},
   "source": [
    "## Basic setup"
   ]
  },
  {
   "cell_type": "markdown",
   "metadata": {},
   "source": [
    "Create anaconda environment\n",
    "<br>\n",
    "```bash\n",
    "conda create -n ml python=3.7.4 jupyter\n",
    "```\n",
    "Install fastai library\n",
    "<br>\n",
    "```bash\n",
    "conda install -c pytorch -c fastai fastai\n",
    "```"
   ]
  },
  {
   "cell_type": "markdown",
   "metadata": {},
   "source": [
    "# Derivatives"
   ]
  },
  {
   "cell_type": "markdown",
   "metadata": {},
   "source": [
    "#### Example:\n",
    "$$f(x,y) = \\begin{cases}x & \\text{if }y \\ne x^2 \\\\ 0 & \\text{if }y = x^2\\end{cases}$$"
   ]
  },
  {
   "cell_type": "markdown",
   "metadata": {},
   "source": [
    "### proof:\n"
   ]
  },
  {
   "cell_type": "markdown",
   "metadata": {},
   "source": [
    "#### Example:\n",
    "$$f(x,y) = \\begin{cases}y^3/(x^2+y^2) & \\text{if }(x,y) \\ne (0,0) \\\\ 0 & \\text{if }(x,y) = (0,0)\\end{cases}$$\n"
   ]
  },
  {
   "cell_type": "markdown",
   "metadata": {},
   "source": [
    "### proof:\n",
    "We can find $f_x(0,0)$ and $f_y(0,0)$ <br>\n",
    "$f_x(0,0)=\\lim_{h\\to0} \\frac{f(0+h,0)−f(0,0)}{h}=\\lim_{h\\to0} \\frac{0}{h^3}=0$<br>\n",
    "$f_y(0,0)=\\lim_{h\\to0} \\frac{f(0,0+h)−f(0,0)}{h}=\\lim_{h\\to0} \\frac{h^3}{h^3}=1$<br>\n",
    "Both $f_x $ and $f_y$ exist at $(0,0)$, but they are not continuous at $(0,0)$, as\n",
    "$f_x=-2xy^3/(x^2+y^2)^-2$ and $f_y=(3 x^2 y^2 + y^4)/(x^2 + y^2)^2$ are not continuous at  $(0,0)$.<br>\n",
    "$\\lim_{x,y\\to(0,0)}y^3/(x^2+y^2)$ does not exist cause $\\lim_{x\\to 0}\\lim_{y\\to 0} y^3/(x^2+y^2)\\neq \\lim_{y\\to 0}\\lim_{x\\to 0} y^3/(x^2+y^2)$ so $f$  is not continuous at $(0,0)$\n"
   ]
  },
  {
   "cell_type": "markdown",
   "metadata": {},
   "source": []
  }
 ],
 "metadata": {
  "kernelspec": {
   "display_name": "Python 3",
   "language": "python",
   "name": "python3"
  },
  "language_info": {
   "codemirror_mode": {
    "name": "ipython",
    "version": 3
   },
   "file_extension": ".py",
   "mimetype": "text/x-python",
   "name": "python",
   "nbconvert_exporter": "python",
   "pygments_lexer": "ipython3",
   "version": "3.7.3"
  }
 },
 "nbformat": 4,
 "nbformat_minor": 4
}
