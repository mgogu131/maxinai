{
 "cells": [
  {
   "cell_type": "code",
   "execution_count": null,
   "metadata": {},
   "outputs": [],
   "source": [
    "%load_ext autoreload\n",
    "%autoreload 2\n",
    "\n",
    "%matplotlib inline"
   ]
  },
  {
   "cell_type": "markdown",
   "metadata": {},
   "source": [
    "## Basic setup"
   ]
  },
  {
   "cell_type": "markdown",
   "metadata": {},
   "source": [
    "Create anaconda environment\n",
    "<br>\n",
    "```bash\n",
    "conda create -n ml python=3.7.4 jupyter\n",
    "```\n",
    "Install fastai library\n",
    "<br>\n",
    "```bash\n",
    "conda install -c pytorch -c fastai fastai\n",
    "```"
   ]
  },
  {
   "cell_type": "markdown",
   "metadata": {},
   "source": [
    "# Sigma-algebras"
   ]
  },
  {
   "cell_type": "markdown",
   "metadata": {},
   "source": [
    "#### Prove that:\n",
    "Composition of mesurable functions is a mesurable function"
   ]
  },
  {
   "cell_type": "markdown",
   "metadata": {},
   "source": [
    "## Mesure"
   ]
  },
  {
   "cell_type": "markdown",
   "metadata": {},
   "source": [
    "#### Prove the following mesure properties:\n",
    "- if $A \\subset B$ then $\\mu(A) \\le \\mu(B)$\n",
    "<br>\n",
    "Proof: $(B - A) \\cup (A \\cap B) = (B - A) \\cup A = B$ and $(B - A) \\cap (A \\cap B) = \\emptyset$ so $\\mu((B - A) \\cup (A \\cap B)) = \\mu(B - A) + \\mu(A \\cap B) = \\mu(B - A) + \\mu(A) = \\mu(B)$ so $\\mu(A) \\le \\mu(B)$"
   ]
  },
  {
   "cell_type": "markdown",
   "metadata": {},
   "source": [
    "## Probability"
   ]
  },
  {
   "cell_type": "markdown",
   "metadata": {},
   "source": [
    "#### Prove that:\n",
    "For probability mesure $P$ and events $A, B, C \\subset \\Omega$\n",
    "- $P(A \\cup B) = P(A) + P(B) - P(A \\cap B)$\n",
    "<br>\n",
    "\n",
    "### proof\n",
    "#### lema 1. \n",
    "$B=(A\\cap B)\\cup (B-A)$, also  $(A\\cap B)$ and $(B-A)$ are disjoined sets $\\implies$ $P(B)=P(A\\cap B)+P(B-A)\\implies P(B-A)=P(B)-P(A\\cap B)$ <br>\n",
    "#### ***\n",
    "$(A\\cup B)=A\\cup (B-A)$, aslo $A$ and $(B-A)$ are disjoint sets $\\implies P(A\\cup B)=P(A)+P(B-A)$ and according the lema 1 $P(B-A)=P(B)-P(A\\cap B)$ so we can say that   $P(A \\cup B) = P(A) + P(B) - P(A \\cap B)$\n",
    "\n"
   ]
  },
  {
   "cell_type": "markdown",
   "metadata": {},
   "source": [
    "## Random variable"
   ]
  },
  {
   "cell_type": "markdown",
   "metadata": {},
   "source": [
    "#### Prove that:\n",
    "$$\n",
    "\\sigma^2 = \\operatorname{E}[X^2] - (\\operatorname{E}[X])^2\n",
    "$$\n",
    "Assuming that expectation exists\n",
    "<br>\n",
    "Denoted by $\\sigma^2$\n",
    "<br>"
   ]
  },
  {
   "cell_type": "markdown",
   "metadata": {},
   "source": [
    "#### Proof:\n",
    "We know that $\\sigma^2 = \\operatorname{Var}(X)=  \\operatorname{E}[(X - \\operatorname{E}[X])^2] = \\operatorname{E}[X^2 -2X\\operatorname{E}[X] + (\\operatorname{E}[X])^2]= \\operatorname{E}[X^2] -\\operatorname{E}[2X\\operatorname{E}[X]] + \\operatorname{E}[(\\operatorname{E}[X])^2]$ <br>\n",
    "Noticed that $\\operatorname{E}[X] $ is a number so $\\operatorname{E}[2X\\operatorname{E}[X]] = 2\\operatorname{E}[X]\\operatorname{E}[X]=2(\\operatorname{E}[X])^2$ and $\\operatorname{E}[(\\operatorname{E}[X])^2]=(\\operatorname{E}[X])^2\\Longrightarrow $ $\\sigma^2=\\operatorname{E}[X^2]-2(\\operatorname{E}[X])^2+(\\operatorname{E}[X])^2=\\operatorname{E}[X^2]-(\\operatorname{E}[X])^2$"
   ]
  },
  {
   "cell_type": "markdown",
   "metadata": {},
   "source": []
  }
 ],
 "metadata": {
  "kernelspec": {
   "display_name": "Python 3",
   "language": "python",
   "name": "python3"
  },
  "language_info": {
   "codemirror_mode": {
    "name": "ipython",
    "version": 3
   },
   "file_extension": ".py",
   "mimetype": "text/x-python",
   "name": "python",
   "nbconvert_exporter": "python",
   "pygments_lexer": "ipython3",
   "version": "3.7.3"
  }
 },
 "nbformat": 4,
 "nbformat_minor": 4
}
