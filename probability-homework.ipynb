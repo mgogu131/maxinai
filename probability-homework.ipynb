{
 "cells": [
  {
   "cell_type": "code",
   "execution_count": null,
   "metadata": {},
   "outputs": [],
   "source": [
    "%load_ext autoreload\n",
    "%autoreload 2\n",
    "\n",
    "%matplotlib inline"
   ]
  },
  {
   "cell_type": "markdown",
   "metadata": {},
   "source": [
    "## Basic setup"
   ]
  },
  {
   "cell_type": "markdown",
   "metadata": {},
   "source": [
    "Create anaconda environment\n",
    "<br>\n",
    "```bash\n",
    "conda create -n ml python=3.7.4 jupyter\n",
    "```\n",
    "Install fastai library\n",
    "<br>\n",
    "```bash\n",
    "conda install -c pytorch -c fastai fastai\n",
    "```"
   ]
  },
  {
   "cell_type": "markdown",
   "metadata": {},
   "source": [
    "# Sigma-algebras"
   ]
  },
  {
   "cell_type": "markdown",
   "metadata": {},
   "source": [
    "#### Prove that:\n",
    "Composition of mesurable functions is a mesurable function"
   ]
  },
  {
   "cell_type": "markdown",
   "metadata": {},
   "source": [
    "## Mesure"
   ]
  },
  {
   "cell_type": "markdown",
   "metadata": {},
   "source": [
    "#### Prove the following mesure properties:\n",
    "- if $A \\subset B$ then $\\mu(A) \\le \\mu(B)$\n",
    "<br>\n",
    "Proof: $(B - A) \\cup (A \\cap B) = (B - A) \\cup A = B$ and $(B - A) \\cap (A \\cap B) = \\emptyset$ so $\\mu((B - A) \\cup (A \\cap B)) = \\mu(B - A) + \\mu(A \\cap B) = \\mu(B - A) + \\mu(A) = \\mu(B)$ so $\\mu(A) \\le \\mu(B)$"
   ]
  },
  {
   "cell_type": "markdown",
   "metadata": {},
   "source": [
    "## Probability"
   ]
  },
  {
   "cell_type": "markdown",
   "metadata": {},
   "source": [
    "#### Prove that:\n",
    "For probability mesure $P$ and events $A, B, C \\subset \\Omega$\n",
    "- $P(A \\cup B) = P(A) + P(B) - P(A \\cap B)$\n",
    "<br>"
   ]
  },
  {
   "cell_type": "markdown",
   "metadata": {},
   "source": [
    "\n",
    "- ### Lemma 1:\n",
    "<br>\n",
    "$X \\cup Y = X \\cup (Y - X)$\n",
    "\n",
    "- ### Lemma 2:\n",
    "<br>\n",
    "Because $X - Y$ and $Y$ are disjoint events: $ P((X-Y) \\cup Y) = P(X - Y) + P(Y) $\n",
    "\n",
    "- ### Lemma 3:\n",
    "<br>\n",
    "$ X - Y = X - (Y \\cap X) $ so $P(B - A) = P(B - (A \\cap B))$\n",
    "- ### Lemma 4:\n",
    "<br>\n",
    "By lemma 1 and 2: $P(A \\cup B) = P(A) + P(B - A) = P(A) + P(B - (A \\cap B)) $\n",
    "\n",
    "- ### Lemma 5:\n",
    "<br>\n",
    "By lemma 2: $X = B$ and $Y = A \\cap B$\n",
    "<br>\n",
    "$ (B - (A \\cap B))$ and $ (A \\cap B) $ are disjoint sets so : $P(B) = P((B - (A \\cap B)) \\cup (A \\cap B)) = P(B - (A \\cap B)) + P(A \\cap B)$ \n",
    "<br>\n",
    "so $P(B - (A \\cap B)) = P(B) - P(A \\cap B)$\n",
    "\n",
    "### Proof:\n",
    "(By lemma 4) $P(A \\cup B) = P(A) + P(B - A) = P(A) + P(B - (A \\cap B)) $ = \n",
    "<br>\n",
    "(By lemma 5) = $P(A) + P(B) - P(A \\cap B)$"
   ]
  },
  {
   "cell_type": "markdown",
   "metadata": {},
   "source": [
    "## Random variable"
   ]
  },
  {
   "cell_type": "markdown",
   "metadata": {},
   "source": [
    "#### Prove that:\n",
    "$$\n",
    "\\sigma^2 = \\operatorname{E}[X^2] - (\\operatorname{E}[X])^2\n",
    "$$\n",
    "Assuming that expectation exists\n",
    "<br>\n",
    "Denoted by $\\sigma^2$\n",
    "<br>"
   ]
  },
  {
   "cell_type": "markdown",
   "metadata": {},
   "source": [
    "### Proof:\n",
    "\n",
    "$\\sigma^2 =  \\operatorname{E}[(X - \\operatorname{E}[X])^2]$ = \n",
    "$\\operatorname{E}[X^2 - 2X\\operatorname{E}[X] + (\\operatorname{E}[X])^2]$ = \n",
    "$\\operatorname{E}[X^2] - \\operatorname{E}[2X\\operatorname{E}[X]] + (\\operatorname{E}[X])^2$ = \n",
    "$ \\operatorname{E}[X^2] - 2\\operatorname{E}[X]\\operatorname{E}[X] + (\\operatorname{E}[X])^2 $ = \n",
    "$ \\operatorname{E}[X^2] - 2(\\operatorname{E}[X])^2 + (\\operatorname{E}[X])^2 $ = \n",
    "$ \\operatorname{E}[X^2] - (\\operatorname{E}[X])^2$"
   ]
  },
  {
   "cell_type": "code",
   "execution_count": null,
   "metadata": {},
   "outputs": [],
   "source": []
  }
 ],
 "metadata": {
  "kernelspec": {
   "display_name": "Python 3",
   "language": "python",
   "name": "python3"
  },
  "language_info": {
   "codemirror_mode": {
    "name": "ipython",
    "version": 3
   },
   "file_extension": ".py",
   "mimetype": "text/x-python",
   "name": "python",
   "nbconvert_exporter": "python",
   "pygments_lexer": "ipython3",
   "version": "3.6.5"
  }
 },
 "nbformat": 4,
 "nbformat_minor": 4
}
